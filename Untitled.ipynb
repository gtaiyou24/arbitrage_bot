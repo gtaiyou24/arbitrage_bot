{
 "cells": [
  {
   "cell_type": "code",
   "execution_count": 232,
   "metadata": {},
   "outputs": [
    {
     "name": "stdout",
     "output_type": "stream",
     "text": [
      "The autoreload extension is already loaded. To reload it, use:\n",
      "  %reload_ext autoreload\n"
     ]
    }
   ],
   "source": [
    "import numpy as np\n",
    "import pandas as pd\n",
    "\n",
    "import matplotlib.pyplot as plt\n",
    "\n",
    "%load_ext autoreload\n",
    "%autoreload 2"
   ]
  },
  {
   "cell_type": "code",
   "execution_count": 233,
   "metadata": {
    "collapsed": true
   },
   "outputs": [],
   "source": [
    "from exchangers import service as exchanger_serv"
   ]
  },
  {
   "cell_type": "code",
   "execution_count": 234,
   "metadata": {},
   "outputs": [
    {
     "name": "stdout",
     "output_type": "stream",
     "text": [
      "最良売値: 871121.0\n",
      "最良買値: 871007.0\n",
      "スプリッド: 114.0\n"
     ]
    }
   ],
   "source": [
    "PRODUCT_CODE = 'BTC/JPY'\n",
    "\n",
    "all_boards = exchanger_serv.get_all_boards(PRODUCT_CODE)\n",
    "\n",
    "high_ask = np.array(all_boards['BitFlyerLightning']['asks'])[:, 0].min()\n",
    "low_bid = np.array(all_boards['Quoine']['bids'])[:, 0].max()\n",
    "\n",
    "print('最良売値: %s' % high_ask)\n",
    "print('最良買値: %s' % low_bid)\n",
    "print('スプリッド: %s' % (high_ask - low_bid))"
   ]
  },
  {
   "cell_type": "code",
   "execution_count": 231,
   "metadata": {},
   "outputs": [
    {
     "data": {
      "text/html": [
       "<div>\n",
       "<style scoped>\n",
       "    .dataframe tbody tr th:only-of-type {\n",
       "        vertical-align: middle;\n",
       "    }\n",
       "\n",
       "    .dataframe tbody tr th {\n",
       "        vertical-align: top;\n",
       "    }\n",
       "\n",
       "    .dataframe thead th {\n",
       "        text-align: right;\n",
       "    }\n",
       "</style>\n",
       "<table border=\"1\" class=\"dataframe\">\n",
       "  <thead>\n",
       "    <tr style=\"text-align: right;\">\n",
       "      <th></th>\n",
       "      <th>BitFlyerLightning</th>\n",
       "      <th>Quoine</th>\n",
       "    </tr>\n",
       "  </thead>\n",
       "  <tbody>\n",
       "    <tr>\n",
       "      <th>asks</th>\n",
       "      <td>[[916900.0, 0.05], [916949.0, 3.0], [916999.0,...</td>\n",
       "      <td>[[916994.0, 0.04], [916996.01, 0.1037], [91699...</td>\n",
       "    </tr>\n",
       "    <tr>\n",
       "      <th>bids</th>\n",
       "      <td>[[916569.0, 0.1863], [916316.0, 0.001], [91630...</td>\n",
       "      <td>[[916918.0, 0.195], [916762.11, 0.014], [91676...</td>\n",
       "    </tr>\n",
       "  </tbody>\n",
       "</table>\n",
       "</div>"
      ],
      "text/plain": [
       "                                      BitFlyerLightning  \\\n",
       "asks  [[916900.0, 0.05], [916949.0, 3.0], [916999.0,...   \n",
       "bids  [[916569.0, 0.1863], [916316.0, 0.001], [91630...   \n",
       "\n",
       "                                                 Quoine  \n",
       "asks  [[916994.0, 0.04], [916996.01, 0.1037], [91699...  \n",
       "bids  [[916918.0, 0.195], [916762.11, 0.014], [91676...  "
      ]
     },
     "execution_count": 231,
     "metadata": {},
     "output_type": "execute_result"
    }
   ],
   "source": [
    "pd.DataFrame(all_boards)"
   ]
  },
  {
   "cell_type": "code",
   "execution_count": 235,
   "metadata": {
    "collapsed": true
   },
   "outputs": [],
   "source": [
    "import ccxt"
   ]
  },
  {
   "cell_type": "code",
   "execution_count": 236,
   "metadata": {
    "collapsed": true
   },
   "outputs": [],
   "source": [
    "quoinex = ccxt.quoinex()"
   ]
  },
  {
   "cell_type": "code",
   "execution_count": 237,
   "metadata": {},
   "outputs": [
    {
     "ename": "TypeError",
     "evalue": "calculate_fee() missing 4 required positional arguments: 'type', 'side', 'amount', and 'price'",
     "output_type": "error",
     "traceback": [
      "\u001b[0;31m---------------------------------------------------------------------------\u001b[0m",
      "\u001b[0;31mTypeError\u001b[0m                                 Traceback (most recent call last)",
      "\u001b[0;32m<ipython-input-237-9ba8cf4199e7>\u001b[0m in \u001b[0;36m<module>\u001b[0;34m()\u001b[0m\n\u001b[0;32m----> 1\u001b[0;31m \u001b[0mquoinex\u001b[0m\u001b[0;34m.\u001b[0m\u001b[0mcalculateFee\u001b[0m\u001b[0;34m(\u001b[0m\u001b[0;34m'BTC/JPY'\u001b[0m\u001b[0;34m)\u001b[0m\u001b[0;34m\u001b[0m\u001b[0m\n\u001b[0m",
      "\u001b[0;31mTypeError\u001b[0m: calculate_fee() missing 4 required positional arguments: 'type', 'side', 'amount', and 'price'"
     ]
    }
   ],
   "source": [
    "quoinex.calculateFee('BTC/JPY', )"
   ]
  },
  {
   "cell_type": "code",
   "execution_count": null,
   "metadata": {
    "collapsed": true
   },
   "outputs": [],
   "source": []
  }
 ],
 "metadata": {
  "kernelspec": {
   "display_name": "Python 3",
   "language": "python",
   "name": "python3"
  },
  "language_info": {
   "codemirror_mode": {
    "name": "ipython",
    "version": 3
   },
   "file_extension": ".py",
   "mimetype": "text/x-python",
   "name": "python",
   "nbconvert_exporter": "python",
   "pygments_lexer": "ipython3",
   "version": "3.6.3"
  },
  "toc": {
   "nav_menu": {},
   "number_sections": true,
   "sideBar": true,
   "skip_h1_title": false,
   "toc_cell": false,
   "toc_position": {},
   "toc_section_display": "block",
   "toc_window_display": false
  }
 },
 "nbformat": 4,
 "nbformat_minor": 2
}
